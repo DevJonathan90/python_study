{
 "cells": [
  {
   "cell_type": "markdown",
   "metadata": {},
   "source": [
    "# 1.13. Object-Oriented Programming in Python: Defining Classes\n",
    "\n",
    "- 파이썬은 객체 지향형 언어로 프로그래머가 문제를 해결하는데 필요한 기능을 직접 구현하여 문제를 해결할 수 있음\n",
    "- 추상적인 데이터 유형을 사용하여 데이터 객체의 모양과 수행할 수 있는 작업에 대해 논리적으로 설명을 할 수 있으며, \n",
    " 클래스를 작성함으로써 추상화를 실제로 사용하는데 필요한 기능을 제공함"
   ]
  },
  {
   "cell_type": "markdown",
   "metadata": {},
   "source": [
    "# 1.13.1. A Fraction Class\n",
    " \n",
    "- 파이썬은 소숫점 이하를 표현하기 위해 부동소숫점 방식을 사용함\n",
    "\t- 부동 소숫점 : 실수를 컴퓨터 상에서 근사하여 표현할 때 소수점의 위치를 고정하지 않고 그 위치를 나타내는 수를 따로 적는 것으로, 유효숫자를 나타내는 가수와 소수점의 위치를 풀이하는 지수로 나누어 표현\n",
    "- 즉, 1/2 + 1/3의 계산 값을 5/6이 아닌 0.83333333333334로 표시됨\n",
    "- 분수간의 결과 자체를 분수 형태로 받기 위해서는 결국 분자, 분모를 이용하여 분수 계산을 해주는 함수를 따로 만들어 사용해야 함 "
   ]
  },
  {
   "cell_type": "code",
   "execution_count": 2,
   "metadata": {
    "collapsed": false
   },
   "outputs": [],
   "source": [
    "class Fraction:\n",
    "    \n",
    "    def __init__(self, top, bottom):\n",
    "        \n",
    "        self.num = top\n",
    "        self.den = bottom\n",
    "# 생성자는 데이터 객체를 만드는 방법을 정의함, Fraction 객체를 만들려면 분자와 분모의 두 가지 데이터를 제공해야 함\n",
    "# 파이썬에서 생성자 메소드는 항상 __init__ (init의 앞뒤에 두 개의 밑줄)로 불려짐"
   ]
  },
  {
   "cell_type": "code",
   "execution_count": 3,
   "metadata": {},
   "outputs": [],
   "source": [
    "myfraction = Fraction(3, 5)"
   ]
  },
  {
   "cell_type": "code",
   "execution_count": 4,
   "metadata": {},
   "outputs": [
    {
     "name": "stdout",
     "output_type": "stream",
     "text": [
      "<__main__.Fraction object at 0x00000228C0B85EB8>\n"
     ]
    }
   ],
   "source": [
    "myf = Fraction(3, 5)\n",
    "print(myf)"
   ]
  },
  {
   "cell_type": "code",
   "execution_count": 7,
   "metadata": {},
   "outputs": [],
   "source": [
    "def show(self):\n",
    "    print(self.num, \"/\", self,den)"
   ]
  },
  {
   "cell_type": "code",
   "execution_count": 8,
   "metadata": {},
   "outputs": [
    {
     "ename": "AttributeError",
     "evalue": "'Fraction' object has no attribute 'show'",
     "traceback": [
      "\u001b[1;31m---------------------------------------------------------------------------\u001b[0m",
      "\u001b[1;31mAttributeError\u001b[0m                            Traceback (most recent call last)",
      "\u001b[1;32m<ipython-input-8-60308c2fac92>\u001b[0m in \u001b[0;36m<module>\u001b[1;34m\u001b[0m\n\u001b[0;32m      1\u001b[0m \u001b[0mmyf\u001b[0m \u001b[1;33m=\u001b[0m \u001b[0mFraction\u001b[0m\u001b[1;33m(\u001b[0m\u001b[1;36m3\u001b[0m\u001b[1;33m,\u001b[0m \u001b[1;36m5\u001b[0m\u001b[1;33m)\u001b[0m\u001b[1;33m\u001b[0m\u001b[1;33m\u001b[0m\u001b[0m\n\u001b[1;32m----> 2\u001b[1;33m \u001b[0mmyf\u001b[0m\u001b[1;33m.\u001b[0m\u001b[0mshow\u001b[0m\u001b[1;33m(\u001b[0m\u001b[1;33m)\u001b[0m\u001b[1;33m\u001b[0m\u001b[1;33m\u001b[0m\u001b[0m\n\u001b[0m",
      "\u001b[1;31mAttributeError\u001b[0m: 'Fraction' object has no attribute 'show'"
     ],
     "output_type": "error"
    }
   ],
   "source": [
    "myf = Fraction(3, 5)\n",
    "myf.show()"
   ]
  },
  {
   "cell_type": "code",
   "execution_count": 5,
   "metadata": {},
   "outputs": [
    {
     "data": {
      "text/plain": [
       "Fraction(5, 6)"
      ]
     },
     "execution_count": 5,
     "metadata": {},
     "output_type": "execute_result"
    }
   ],
   "source": [
    "from fractions import Fraction\n",
    "Fraction(1, 2) + Fraction (1, 3)"
   ]
  }
 ],
 "metadata": {
  "kernelspec": {
   "display_name": "Python 2",
   "language": "python",
   "name": "python2"
  },
  "language_info": {
   "codemirror_mode": {
    "name": "ipython",
    "version": 2
   },
   "file_extension": ".py",
   "mimetype": "text/x-python",
   "name": "python",
   "nbconvert_exporter": "python",
   "pygments_lexer": "ipython2",
   "version": "2.7.6"
  }
 },
 "nbformat": 4,
 "nbformat_minor": 0
}
