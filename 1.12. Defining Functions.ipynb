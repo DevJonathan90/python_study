{
  "cells": [
    {
      "cell_type": "markdown",
      "metadata": {
        "pycharm": {}
      },
      "source": "1.12 Defining Functions\n\n수학적 모듈에서 sqrt라는 python 함수를 호출하여 제곱근을 계산하는 초기 절차적 추상화 예제임\n일반적으로 함수를 정의하여 계산의 세부사함을 숨길 수 있음 \n함수 정의에는 이름, 매개 변수 그룹 및 본문이 필요함\n명시적으로 값을 반환할 수도 있음"
    },
    {
      "cell_type": "code",
      "execution_count": 1,
      "metadata": {
        "pycharm": {}
      },
      "outputs": [],
      "source": [
        "def square(n):\n",
        "    return n**2"
      ]
    },
    {
      "cell_type": "code",
      "execution_count": 4,
      "metadata": {
        "pycharm": {}
      },
      "outputs": [
        {
          "data": {
            "text/plain": [
              "9"
            ]
          },
          "execution_count": 4,
          "metadata": {},
          "output_type": "execute_result"
        }
      ],
      "source": [
        "square(3)"
      ]
    },
    {
      "cell_type": "code",
      "execution_count": 6,
      "metadata": {
        "pycharm": {}
      },
      "outputs": [
        {
          "data": {
            "text/plain": [
              "81"
            ]
          },
          "execution_count": 6,
          "metadata": {},
          "output_type": "execute_result"
        }
      ],
      "source": [
        "square(square(3))"
      ]
    },
    {
      "cell_type": "code",
      "execution_count": 7,
      "metadata": {
        "pycharm": {}
      },
      "outputs": [],
      "source": [
        "def squareroot(n):\n",
        "    root \u003d n/2\n",
        "    for k in range(20):\n",
        "        root \u003d (1/2)*(root + (n / root))\n",
        "\n",
        "    return root"
      ]
    },
    {
      "cell_type": "code",
      "execution_count": null,
      "metadata": {
        "pycharm": {}
      },
      "outputs": [],
      "source": [
        "\u003e\u003e\u003e def square(n):\n",
        "...    return n**2\n",
        "...\n",
        "\u003e\u003e\u003e square(3)\n",
        "9\n",
        "\u003e\u003e\u003e square(square(3))\n",
        "81\n",
        "\u003e\u003e\u003e"
      ]
    },
    {
      "cell_type": "code",
      "execution_count": null,
      "metadata": {
        "pycharm": {}
      },
      "outputs": [],
      "source": []
    }
  ],
  "metadata": {
    "kernelspec": {
      "display_name": "Python 3",
      "language": "python",
      "name": "python3"
    },
    "language_info": {
      "codemirror_mode": {
        "name": "ipython",
        "version": 3
      },
      "file_extension": ".py",
      "mimetype": "text/x-python",
      "name": "python",
      "nbconvert_exporter": "python",
      "pygments_lexer": "ipython3",
      "version": "3.7.1"
    }
  },
  "nbformat": 4,
  "nbformat_minor": 2
}