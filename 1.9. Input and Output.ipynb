{
 "cells": [
  {
   "cell_type": "markdown",
   "metadata": {},
   "source": [
    "# 1.9. Input and Output\n",
    "함수 입력 : python은 사용자에게 어떤 데이터를 입력하도록 요청하고 문자열 형식으로 데이터 대한 참조를 반환하는 함수를 제공함"
   ]
  },
  {
   "cell_type": "code",
   "execution_count": 2,
   "metadata": {},
   "outputs": [
    {
     "name": "stdout",
     "output_type": "stream",
     "text": [
      "Please enter your name: Jonathan\n"
     ]
    }
   ],
   "source": [
    "aName = input('Please enter your name: ')\n",
    "# python의l 입력 함수는 문자열 인 단일 매개 변수를 사용함, 이 문자열은 사용자로 하여금 뭔가를 입력하라는 텍스트가 포함되기 때문에 프롬프트라고도 함"
   ]
  },
  {
   "cell_type": "markdown",
   "metadata": {},
   "source": [
    "사용자자 프롬프트 뒤에 입력한 내용은 aName 변수에 저장됨\n",
    "입력 기능을 사용하여 사용자가 데이터를 입력하고 추가 처리에 해당 데이터를 통합하라는 안내를 작성할 수 있음"
   ]
  },
  {
   "cell_type": "code",
   "execution_count": 4,
   "metadata": {},
   "outputs": [
    {
     "name": "stdout",
     "output_type": "stream",
     "text": [
      "Please enter your name Jonathan\n",
      "Your name in all capitals is JONATHAN and has length 8\n"
     ]
    }
   ],
   "source": [
    "aName = input(\"Please enter your name \")\n",
    "print(\"Your name in all capitals is\",aName.upper(),\n",
    "      \"and has length\", len(aName))\n",
    "# 첫 번째 문은 사용자에게 이름을 묻고 두번 째 문은 제공된 문자열을 기반으로 간단한 처리 결과를 인쇄함"
   ]
  },
  {
   "cell_type": "code",
   "execution_count": 7,
   "metadata": {},
   "outputs": [
    {
     "name": "stdout",
     "output_type": "stream",
     "text": [
      "Please enter the radius of the circle 10\n",
      "diameter is 20.0\n"
     ]
    }
   ],
   "source": [
    "sradius = input(\"Please enter the radius of the circle \")\n",
    "radius = float(sradius)\n",
    "diameter = 2 * radius\n",
    "print(\"diameter is\", diameter)"
   ]
  },
  {
   "cell_type": "markdown",
   "metadata": {},
   "source": [
    "# 1.9.1 String Formatting"
   ]
  },
  {
   "cell_type": "markdown",
   "metadata": {},
   "source": [
    "print 함수는 python 프로그램에서 값을 출력하는 아주 간단한 방법을 제공함\n",
    "print는 0개 이상의 매개 변수를 취하여 단일 공백을 기본 구분 기호로 사용하여 표시함\n",
    "sep 인수를 설정하여 구분 문자를 변경할 수 있음\n",
    "또한 각 출력은 기본적으로 개행 문자로 끝나나 이 동작은 end 인수를 설정하여 변경 할 수 있음"
   ]
  },
  {
   "cell_type": "code",
   "execution_count": 8,
   "metadata": {},
   "outputs": [
    {
     "name": "stdout",
     "output_type": "stream",
     "text": [
      "Hello\n",
      "Hello World\n",
      "Hello***World\n",
      "Hello World***"
     ]
    }
   ],
   "source": [
    "print(\"Hello\")\n",
    "print(\"Hello\", \"World\")\n",
    "print(\"Hello\", \"World\", sep = \"***\")\n",
    "print(\"Hello\", \"World\", end = \"***\")"
   ]
  },
  {
   "cell_type": "markdown",
   "metadata": {},
   "source": [
    "print 함수를 사용할 때, 출력의 모양을 보다 잘 제어하는 것이 중요한데 \n",
    "python에서는 형식화 된 문자열이 존재하여 \n",
    "서식이 지정된 문자열은 문자열에 삽일 될 변수의 자리와 결합되는 단어나 공백이 유지됨"
   ]
  },
  {
   "cell_type": "code",
   "execution_count": 11,
   "metadata": {},
   "outputs": [
    {
     "name": "stdout",
     "output_type": "stream",
     "text": [
      "Jonathan is 30 years old.\n"
     ]
    }
   ],
   "source": [
    "age = 30\n",
    "print(aName, \"is\", age, \"years old.\")"
   ]
  },
  {
   "cell_type": "code",
   "execution_count": null,
   "metadata": {},
   "outputs": [],
   "source": [
    "print(\"%s is %d years old.\" % (aName, age)"
   ]
  },
  {
   "cell_type": "markdown",
   "metadata": {},
   "source": [
    "Character / Output Format\n",
    "d, i / Integer\n",
    "u / Unsigned integer\n",
    "f / Floating point as m.ddddd\n",
    "e / Floating point as m.ddddde+/-xx\n",
    "E / Floating point as m.dddddE+/-xx\n",
    "g / Use %e for exponents less than −4 or greater than +5, otherwise use %f\n",
    "c / Single character\n",
    "s / String, or any Python data object that can be converted to a string by using the str function.\n",
    "% / Insert a literal % character\n",
    "\n",
    "\n",
    "Modifier / Example / Description\n",
    "number / %20d / Put the value in a field width of 20\n",
    "- / %-20d / Put the value in a field 20 characters wide, left-justified\n",
    "+ / %+20d / Put the value in a field 20 characters wide, right-justified\n",
    "0 / %020d / Put the value in a field 20 characters wide, fill in with leading zeros.\n",
    ". / %20.2f / Put the value in a field 20 characters wide with 2 characters to the right of the decimal point.\n",
    "(name) / %(name)d / Get the value from the supplied dictionary using name as the key."
   ]
  },
  {
   "cell_type": "code",
   "execution_count": 17,
   "metadata": {},
   "outputs": [
    {
     "name": "stdout",
     "output_type": "stream",
     "text": [
      "The banana costs 24 cents\n"
     ]
    }
   ],
   "source": [
    "price = 24\n",
    "item = \"banana\"\n",
    "print(\"The %s costs %d cents\"%(item,price))"
   ]
  },
  {
   "cell_type": "code",
   "execution_count": 18,
   "metadata": {},
   "outputs": [
    {
     "name": "stdout",
     "output_type": "stream",
     "text": [
      "The     banana costs 24.00 cents\n"
     ]
    }
   ],
   "source": [
    "print(\"The %+10s costs %5.2f cents\"%(item,price))"
   ]
  },
  {
   "cell_type": "code",
   "execution_count": 19,
   "metadata": {},
   "outputs": [
    {
     "name": "stdout",
     "output_type": "stream",
     "text": [
      "The     banana costs      24.00 cents\n"
     ]
    }
   ],
   "source": [
    "print(\"The %+10s costs %10.2f cents\"%(item,price))"
   ]
  },
  {
   "cell_type": "code",
   "execution_count": 22,
   "metadata": {},
   "outputs": [
    {
     "name": "stdout",
     "output_type": "stream",
     "text": [
      "The banana costs    24.0 cents\n"
     ]
    }
   ],
   "source": [
    "itemdict = {\"item\":\"banana\",\"cost\":24}\n",
    "print(\"The %(item)s costs %(cost)7.1f cents\"%itemdict)"
   ]
  }
 ],
 "metadata": {
  "kernelspec": {
   "display_name": "Python 3",
   "language": "python",
   "name": "python3"
  },
  "language_info": {
   "codemirror_mode": {
    "name": "ipython",
    "version": 3
   },
   "file_extension": ".py",
   "mimetype": "text/x-python",
   "name": "python",
   "nbconvert_exporter": "python",
   "pygments_lexer": "ipython3",
   "version": "3.7.1"
  }
 },
 "nbformat": 4,
 "nbformat_minor": 2
}
