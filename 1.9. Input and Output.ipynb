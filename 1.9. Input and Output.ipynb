{
  "cells": [
    {
      "cell_type": "markdown",
      "metadata": {
        "pycharm": {}
      },
      "source": "1.9. Input and Output\n\n함수 입력 : python은 사용자에게 어떤 데이터를 입력하도록 요청하고 문자열 형식으로 데이터 대한 참조를 반환하는 함수를 제공함\n"
    },
    {
      "cell_type": "code",
      "execution_count": 2,
      "metadata": {
        "pycharm": {}
      },
      "outputs": [
        {
          "name": "stdout",
          "output_type": "stream",
          "text": [
            "Please enter your name: Jonathan\n"
          ]
        }
      ],
      "source": "aName \u003d input(\u0027Please enter your name: \u0027)\n# python의l 입력 함수는 문자열 인 단일 매개 변수를 사용함, 이 문자열은 사용자로 하여금 뭔가를 입력하라는 텍스트가 포함되기 때문에 프롬프트라고도 함"
    },
    {
      "cell_type": "markdown",
      "metadata": {
        "pycharm": {}
      },
      "source": [
        "사용자자 프롬프트 뒤에 입력한 내용은 aName 변수에 저장됨\n",
        "입력 기능을 사용하여 사용자가 데이터를 입력하고 추가 처리에 해당 데이터를 통합하라는 안내를 작성할 수 있음"
      ]
    },
    {
      "cell_type": "code",
      "execution_count": 4,
      "metadata": {
        "pycharm": {}
      },
      "outputs": [
        {
          "name": "stdout",
          "output_type": "stream",
          "text": [
            "Please enter your name Jonathan\n",
            "Your name in all capitals is JONATHAN and has length 8\n"
          ]
        }
      ],
      "source": [
        "aName \u003d input(\"Please enter your name \")\n",
        "print(\"Your name in all capitals is\",aName.upper(),\n",
        "      \"and has length\", len(aName))\n",
        "# 첫 번째 문은 사용자에게 이름을 묻고 두번 째 문은 제공된 문자열을 기반으로 간단한 처리 결과를 인쇄함"
      ]
    },
    {
      "cell_type": "code",
      "execution_count": 7,
      "metadata": {
        "pycharm": {}
      },
      "outputs": [
        {
          "name": "stdout",
          "output_type": "stream",
          "text": [
            "Please enter the radius of the circle 10\n",
            "diameter is 20.0\n"
          ]
        }
      ],
      "source": "sradius \u003d input(\"Please enter the radius of the circle \")\nradius \u003d float(sradius)\ndiameter \u003d 2 * radius\nprint(\"diameter is\", diameter)\n"
    },
    {
      "cell_type": "markdown",
      "metadata": {
        "pycharm": {}
      },
      "source": "1.9.1 String Formatting"
    },
    {
      "cell_type": "markdown",
      "metadata": {
        "pycharm": {}
      },
      "source": "print 함수는 python 프로그램에서 값을 출력하는 아주 간단한 방법을 제공함\nprint는 0개 이상의 매개 변수를 취하여 단일 공백을 기본 구분 기호로 사용하여 표시함\nsep 인수를 설정하여 구분 문자를 변경할 수 있음\n또한 각 출력은 기본적으로 개행 문자로 끝나나 이 동작은 end 인수를 설정하여 변경 할 수 있음\n"
    },
    {
      "cell_type": "code",
      "execution_count": 8,
      "metadata": {
        "pycharm": {}
      },
      "outputs": [
        {
          "name": "stdout",
          "output_type": "stream",
          "text": [
            "Hello\n",
            "Hello World\n",
            "Hello***World\n",
            "Hello World***"
          ]
        }
      ],
      "source": "print(\"Hello\")\nprint(\"Hello\", \"World\")\nprint(\"Hello\", \"World\", sep \u003d \"***\")\nprint(\"Hello\", \"World\", end \u003d \"***\")\n"
    },
    {
      "cell_type": "markdown",
      "metadata": {
        "pycharm": {}
      },
      "source": "print 함수를 사용할 때, 출력의 모양을 보다 잘 제어하는 것이 중요한데 \npython에서는 형식화 된 문자열이 존재하여 \n서식이 지정된 문자열은 문자열에 삽일 될 변수의 자리와 결합되는 단어나 공백이 유지됨\n"
    },
    {
      "cell_type": "code",
      "execution_count": 11,
      "metadata": {
        "pycharm": {}
      },
      "outputs": [
        {
          "name": "stdout",
          "output_type": "stream",
          "text": [
            "Jonathan is 30 years old.\n"
          ]
        }
      ],
      "source": [
        "age \u003d 30\n",
        "print(aName, \"is\", age, \"years old.\")"
      ]
    },
    {
      "cell_type": "code",
      "execution_count": null,
      "metadata": {
        "pycharm": {}
      },
      "outputs": [],
      "source": "print(\"%s is %d years old.\" % (aName, age)\n"
    },
    {
      "cell_type": "markdown",
      "metadata": {
        "pycharm": {}
      },
      "source": "Character / Output Format\nd, i / Integer\nu / Unsigned integer\nf / Floating point as m.ddddd\ne / Floating point as m.ddddde+/-xx\nE / Floating point as m.dddddE+/-xx\ng / Use %e for exponents less than −4 or greater than +5, otherwise use %f\nc / Single character\ns / String, or any Python data object that can be converted to a string by using the str function.\n% / Insert a literal % character\n\n\nModifier / Example / Description\nnumber / %20d / Put the value in a field width of 20\n- / %-20d / Put the value in a field 20 characters wide, left-justified\n+ / %+20d / Put the value in a field 20 characters wide, right-justified\n0 / %020d / Put the value in a field 20 characters wide, fill in with leading zeros.\n. / %20.2f / Put the value in a field 20 characters wide with 2 characters to the right of the decimal point.\n(name) / %(name)d / Get the value from the supplied dictionary using name as the key.\n"
    },
    {
      "cell_type": "code",
      "execution_count": 17,
      "metadata": {
        "pycharm": {}
      },
      "outputs": [
        {
          "name": "stdout",
          "output_type": "stream",
          "text": [
            "The banana costs 24 cents\n"
          ]
        }
      ],
      "source": [
        "price \u003d 24\n",
        "item \u003d \"banana\"\n",
        "print(\"The %s costs %d cents\"%(item,price))"
      ]
    },
    {
      "cell_type": "code",
      "execution_count": 18,
      "metadata": {
        "pycharm": {}
      },
      "outputs": [
        {
          "name": "stdout",
          "output_type": "stream",
          "text": [
            "The     banana costs 24.00 cents\n"
          ]
        }
      ],
      "source": [
        "print(\"The %+10s costs %5.2f cents\"%(item,price))"
      ]
    },
    {
      "cell_type": "code",
      "execution_count": 19,
      "metadata": {
        "pycharm": {}
      },
      "outputs": [
        {
          "name": "stdout",
          "output_type": "stream",
          "text": [
            "The     banana costs      24.00 cents\n"
          ]
        }
      ],
      "source": [
        "print(\"The %+10s costs %10.2f cents\"%(item,price))"
      ]
    },
    {
      "cell_type": "code",
      "execution_count": 22,
      "metadata": {
        "pycharm": {}
      },
      "outputs": [
        {
          "name": "stdout",
          "output_type": "stream",
          "text": [
            "The banana costs    24.0 cents\n"
          ]
        }
      ],
      "source": [
        "itemdict \u003d {\"item\":\"banana\",\"cost\":24}\n",
        "print(\"The %(item)s costs %(cost)7.1f cents\"%itemdict)"
      ]
    }
  ],
  "metadata": {
    "kernelspec": {
      "display_name": "Python 3",
      "language": "python",
      "name": "python3"
    },
    "language_info": {
      "codemirror_mode": {
        "name": "ipython",
        "version": 3
      },
      "file_extension": ".py",
      "mimetype": "text/x-python",
      "name": "python",
      "nbconvert_exporter": "python",
      "pygments_lexer": "ipython3",
      "version": "3.7.1"
    }
  },
  "nbformat": 4,
  "nbformat_minor": 2
}