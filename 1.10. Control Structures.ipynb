{
  "cells": [
    {
      "cell_type": "markdown",
      "metadata": {
        "pycharm": {}
      },
      "source": "1.10 Control Structures\n\n알고리즘은 \u0027반복\u0027과 \u0027선택\u0027 이 두 가지 중요한 제어 구조가 필요함\n이 두 가지 모두 Python에서 다양한 형태로 지원됨\n프로그래머는 주어진 상황에 가장 유용한 방법을 찾아 적용해야함\npython은 표준 while문 및 매우 강력한 for 문을 제공함\nwhile 문은 조건이 true인 동한 코드 본문을 반복함\n"
    },
    {
      "cell_type": "code",
      "execution_count": 4,
      "metadata": {
        "pycharm": {}
      },
      "outputs": [
        {
          "name": "stdout",
          "output_type": "stream",
          "text": [
            "Hello, world\n",
            "Hello, world\n",
            "Hello, world\n",
            "Hello, world\n",
            "Hello, world\n"
          ]
        }
      ],
      "source": "# while\ncounter \u003d 1\nwhile counter \u003c\u003d 5:\n    print(\"Hello, world\")\n    counter \u003d counter + 1\n"
    },
    {
      "cell_type": "markdown",
      "metadata": {
        "pycharm": {}
      },
      "source": "while 문에 대한 조건은 각 반복이 시작될 때 평가됨\n조건이 True이면 명령문 본문이 실힘됨\n언어가 강제 들여 쓰기 패턴 때문에 python의 구문을 쉽게 볼 수 있음\n"
    },
    {
      "cell_type": "markdown",
      "metadata": {
        "pycharm": {}
      },
      "source": "for 문은 많은 python 콜랙션과 함께 사용할 수 있으며,\n스퀀스인 한 컬렉션의 맴버를 반복하는데 사용할 수 있음\nfor 문의 기본적인 구조는 리스트나 튜플, 문자열의 첫 번째 요소부터 마지막 요소까지 차례로 변수에 대힙되어 수행됨\n"
    },
    {
      "cell_type": "code",
      "execution_count": null,
      "outputs": [],
      "source": "#for\nfor item in [1, 3, 6, 2, 5]:\n    print(item)\n    # 변수 항목을 리스트 [1, 3, 6, 2, 5]의 각 연속 값으로 지정하고 반복 본문이 실햄됨",
      "metadata": {
        "pycharm": {
          "metadata": false,
          "name": "#%%\n"
        }
      }
    },
    {
      "cell_type": "code",
      "execution_count": 7,
      "metadata": {
        "pycharm": {}
      },
      "outputs": [
        {
          "name": "stdout",
          "output_type": "stream",
          "text": [
            "0\n",
            "1\n",
            "4\n",
            "9\n",
            "16\n"
          ]
        }
      ],
      "source": "for item in range(5):\n    print(item**2)"
    },
    {
      "cell_type": "code",
      "execution_count": 8,
      "metadata": {
        "pycharm": {}
      },
      "outputs": [
        {
          "name": "stdout",
          "output_type": "stream",
          "text": [
            "[\u0027c\u0027, \u0027a\u0027, \u0027t\u0027, \u0027d\u0027, \u0027o\u0027, \u0027g\u0027, \u0027r\u0027, \u0027a\u0027, \u0027b\u0027, \u0027b\u0027, \u0027i\u0027, \u0027t\u0027]\n"
          ]
        }
      ],
      "source": "wordlist \u003d [\u0027cat\u0027,\u0027dog\u0027,\u0027rabbit\u0027]\nletterlist \u003d [ ]\nfor aword in wordlist:\n    for aletter in aword:\n        letterlist.append(aletter)\nprint(letterlist)\n"
    },
    {
      "cell_type": "markdown",
      "metadata": {
        "pycharm": {}
      },
      "source": "if 문은 프로그래머가 질문을 하고 그 결과에 따라 다른 작업을 수행할 수 있음\n대부분의 프로그래밍 언어는 ifelse와 if라는 유용한 구조의 두 가지 버전을 제공함\n이진 선택의 간단한 예제는 iflse문을 사용함\n"
    },
    {
      "cell_type": "code",
      "execution_count": null,
      "outputs": [],
      "source": "score \u003d 20\n\nif score \u003e\u003d 90:\n   print(\u0027A\u0027)\nelse:\n   if score \u003e\u003d80:\n      print(\u0027B\u0027)\n   else:\n      if score \u003e\u003d 70:\n         print(\u0027C\u0027)\n      else:\n         if score \u003e\u003d 60:\n            print(\u0027D\u0027)\n         else:\n            print(\u0027F\u0027)\n",
      "metadata": {
        "pycharm": {
          "metadata": false,
          "name": "#%%\n"
        }
      }
    },
    {
      "cell_type": "code",
      "execution_count": 12,
      "metadata": {
        "pycharm": {}
      },
      "outputs": [
        {
          "name": "stdout",
          "output_type": "stream",
          "text": [
            "F\n"
          ]
        }
      ],
      "source": "score \u003d 20\n\nif score \u003e\u003d 90:\n   print(\u0027A\u0027)\nelif score \u003e\u003d80:\n   print(\u0027B\u0027)\nelif score \u003e\u003d 70:\n   print(\u0027C\u0027)\nelif score \u003e\u003d 60:\n   print(\u0027D\u0027)\nelse:\n   print(\u0027F\u0027)"
    },
    {
      "cell_type": "code",
      "execution_count": 14,
      "metadata": {
        "pycharm": {}
      },
      "outputs": [
        {
          "data": {
            "text/plain": [
              "[1, 4, 9, 16, 25, 36, 49, 64, 81, 100]"
            ]
          },
          "execution_count": 14,
          "metadata": {},
          "output_type": "execute_result"
        }
      ],
      "source": [
        "sqlist\u003d[]\n",
        "for x in range(1,11):\n",
        "    sqlist.append(x*x)\n",
        "    \n",
        "sqlist"
      ]
    },
    {
      "cell_type": "code",
      "execution_count": 15,
      "metadata": {
        "pycharm": {}
      },
      "outputs": [
        {
          "data": {
            "text/plain": [
              "[1, 4, 9, 16, 25, 36, 49, 64, 81, 100]"
            ]
          },
          "execution_count": 15,
          "metadata": {},
          "output_type": "execute_result"
        }
      ],
      "source": [
        "sqlist\u003d[x*x for x in range(1,11)]\n",
        "sqlist"
      ]
    },
    {
      "cell_type": "code",
      "execution_count": 16,
      "metadata": {
        "pycharm": {}
      },
      "outputs": [
        {
          "data": {
            "text/plain": [
              "[1, 9, 25, 49, 81]"
            ]
          },
          "execution_count": 16,
          "metadata": {},
          "output_type": "execute_result"
        }
      ],
      "source": [
        "sqlist\u003d[x*x for x in range(1,11) if x%2 !\u003d 0]\n",
        "sqlist"
      ]
    }
  ],
  "metadata": {
    "kernelspec": {
      "display_name": "Python 3",
      "language": "python",
      "name": "python3"
    },
    "language_info": {
      "codemirror_mode": {
        "name": "ipython",
        "version": 3
      },
      "file_extension": ".py",
      "mimetype": "text/x-python",
      "name": "python",
      "nbconvert_exporter": "python",
      "pygments_lexer": "ipython3",
      "version": "3.7.1"
    }
  },
  "nbformat": 4,
  "nbformat_minor": 2
}