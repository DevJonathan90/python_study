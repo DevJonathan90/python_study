{
  "cells": [
    {
      "cell_type": "code",
      "execution_count": 1,
      "metadata": {
        "collapsed": true,
        "pycharm": {
          "is_executing": false
        }
      },
      "outputs": [
        {
          "name": "stdout",
          "text": [
            "\u003d\u003d\u003d\u003d\u003d\u003d\u003d\u003d\u003d\u003d\u003d\u003d\u003d\u003d\u003d\u003d\u003d\u003d\u003d\u003d\u003d\u003d\u003d\u003d\u003d\u003d\u003d\u003d\u003d\u003d\n1.더하기\n.2빼기\n3.곱하기\n4.나누기\n5.나머지구하기\n6.나가기\n\u003d\u003d\u003d\u003d\u003d\u003d\u003d\u003d\u003d\u003d\u003d\u003d\u003d\u003d\u003d\u003d\u003d\u003d\u003d\u003d\u003d\u003d\u003d\u003d\u003d\u003d\u003d\u003d\u003d\u003d\n",
            "결과는 1029481025 입니다.\n",
            "결과는 3588482692 입니다.\n",
            "결과는 10 입니다.\n"
          ],
          "output_type": "stream"
        },
        {
          "traceback": [
            "\u001b[1;31m---------------------------------------------------------------------------\u001b[0m",
            "\u001b[1;31mValueError\u001b[0m                                Traceback (most recent call last)",
            "\u001b[1;32m\u003cipython-input-1-ce05e6d55ad9\u003e\u001b[0m in \u001b[0;36m\u003cmodule\u003e\u001b[1;34m\u001b[0m\n\u001b[0;32m      4\u001b[0m \u001b[1;33m\u001b[0m\u001b[0m\n\u001b[0;32m      5\u001b[0m \u001b[1;32mwhile\u001b[0m \u001b[1;32mTrue\u001b[0m\u001b[1;33m:\u001b[0m\u001b[1;33m\u001b[0m\u001b[1;33m\u001b[0m\u001b[0m\n\u001b[1;32m----\u003e 6\u001b[1;33m     \u001b[0mmenu\u001b[0m \u001b[1;33m\u003d\u001b[0m \u001b[0mint\u001b[0m\u001b[1;33m(\u001b[0m\u001b[0minput\u001b[0m\u001b[1;33m(\u001b[0m\u001b[1;34m\"원하는 계산기 기능을 입력하세요. \"\u001b[0m\u001b[1;33m)\u001b[0m\u001b[1;33m)\u001b[0m\u001b[1;33m\u001b[0m\u001b[1;33m\u001b[0m\u001b[0m\n\u001b[0m\u001b[0;32m      7\u001b[0m     \u001b[1;32mif\u001b[0m \u001b[0mmenu\u001b[0m \u001b[1;33m\u003c\u003d\u001b[0m \u001b[1;36m5\u001b[0m\u001b[1;33m:\u001b[0m\u001b[1;33m\u001b[0m\u001b[1;33m\u001b[0m\u001b[0m\n\u001b[0;32m      8\u001b[0m         \u001b[0mnumberA\u001b[0m \u001b[1;33m\u003d\u001b[0m \u001b[0mint\u001b[0m\u001b[1;33m(\u001b[0m\u001b[0minput\u001b[0m\u001b[1;33m(\u001b[0m\u001b[1;34m\"첫번째 숫자를 입력하세요. \"\u001b[0m\u001b[1;33m)\u001b[0m\u001b[1;33m)\u001b[0m\u001b[1;33m\u001b[0m\u001b[1;33m\u001b[0m\u001b[0m\n",
            "\u001b[1;31mValueError\u001b[0m: invalid literal for int() with base 10: \u0027\u0027"
          ],
          "ename": "ValueError",
          "evalue": "invalid literal for int() with base 10: \u0027\u0027",
          "output_type": "error"
        }
      ],
      "source": "print(\"\u003d\"*30)\nprint(\"1.더하기\\n.2빼기\\n3.곱하기\\n4.나누기\\n5.나머지구하기\\n6.나가기\")\nprint(\"\u003d\"*30)\n\nwhile True:\n    menu \u003d int(input(\"원하는 계산기 기능을 입력하세요. \"))\n    if menu \u003c\u003d 5:\n        numberA \u003d int(input(\"첫번째 숫자를 입력하세요. \"))\n        numberB \u003d int(input(\"두번째 숫자를 입력하세요. \"))\n        if menu \u003d\u003d 1:\n            print(\"결과는 %d 입니다.\" %(numberA+numberB))\n        elif menu \u003d\u003d 2:\n            print(\"결과는 %d 입니다.\" %(numberA-numberB))\n        elif menu \u003d\u003d 3:\n            print(\"결과는 %d 입니다.\" %(numberA*numberB))\n        elif menu \u003d\u003d 4:\n            print(\"결과는 %d 입니다.\" %(numberA/numberB))\n        elif menu \u003d\u003d 5:\n            print(\"결과는 %d 입니다.\" %(numberA%numberB))\n        elif menu \u003d\u003d 6:\n            break\n        else:\n            print(\"잘못입력하셨습니다. 다시 입력해 주세요.\")\n            \n"
    }
  ],
  "metadata": {
    "language_info": {
      "codemirror_mode": {
        "name": "ipython",
        "version": 2
      },
      "file_extension": ".py",
      "mimetype": "text/x-python",
      "name": "python",
      "nbconvert_exporter": "python",
      "pygments_lexer": "ipython2",
      "version": "2.7.6"
    },
    "kernelspec": {
      "name": "python3",
      "language": "python",
      "display_name": "Python 3"
    }
  },
  "nbformat": 4,
  "nbformat_minor": 0
}