{
  "cells": [
    {
      "cell_type": "markdown",
      "metadata": {
        "pycharm": {}
      },
      "source": "1.1. Objectives\n- 컴퓨터 과학, 프로그래밍 및 문제 해결 아이디어 검토\n- 추상화와 문제 해결 과정에서 수행하는 역할을 이해\n- 추상 데이터 유형의 개녕을 이해하고 구현\n- Python 프로그래밍 언어를 리뷰\n"
    },
    {
      "cell_type": "markdown",
      "metadata": {
        "pycharm": {}
      },
      "source": "1.2. Getting Started\n- 우리가 프로그래밍에 대해 생각하는 방식은 최초의 전자 컴퓨터가 인간과 기계사이의 명령을 전달하기 위해 패치 케이블과 스위치를 요구한 이후로 많은 변화를 겪어옴\n- 사회의 여러 측면에서 볼 수 있듯이 computing 기술의 변화로 인해 computer scientists는 연습할 수 있는 도구와 플랫폼을 발전시켜옴, 더 빠른 프로세서, 고속 네트워크 및 대용량 메모리와 같은 발전으로 인해 computer scientists가 탐색해야하는 복잡성이 증대함\n- 문제해결의 기초를 배우는 데 상당한 시간을 할애하고 문제를 얘기하고 해결책을 개발할 수 있는 자신감을 가져야함\n- 이 장에서는 텍스트의 두 가지 중요한 부분이 있음, 첫 번째로 컴퓨터 과학과 알고리즘 데이터 구조 연구가 적합해야하는 프레임 워크, 두 번째로 파이썬 프로그래밍 언어를 살펴봄\n- 상세하고 철저한 참고서를 제공할 수는 없지만 나머지 장 전체에서 발생할 기본적인 구성과 아이디어에 대한 예제와 설명을 제공함\n"
    },
    {
      "cell_type": "markdown",
      "metadata": {
        "pycharm": {}
      },
      "source": "1.3.What Is Computer Science?\n- Computer Science은 때때로 정의하기 어려우나, Computer Science는 단순한 규율의 도구로서 중요한 지원 역할을 하는 도구에 지나지 않음\n- Computer Science는 문제, 문제 해결 및 문제 해결 과정에서 나오는 해결책을 연구함, 주어진 문제를 감안할 때 computer sciestists의 목표는 발생할 수 있는 문제의 모든 사례를 해결하기 위한 단계별 알고리즘을 개발하는 것임\n- 알고리즘은 문제를 해결할 수 있는 유한 프로세스이며 솔루션임\n- 문제를 해결할 수 있는 알고리즘이 있다면 문제를 계산할 수 있음, 컴퓨터를 사용할 때 프로그램이 작동하도록하는 세부 사항을 몰라도 컴퓨터를 사용하여 문서를 작성하고, 전자 메일을 보내고 받으며 기타 많은 것들을 함\n- computer science, programmer 기타 시스템 관리자는 운영 체제 작동방식, 네트워크 프로토콜 구성 방법 및 기능을 제어하는 다양한 스크립트를 코딩하는 방법에 대해 자세히 알아야하고 또한 사용자가 간단히 추측하는 하위 수준 세부 정보를 제어할 수 있어야 함\n- 사용자가 인터페이스 작동 방식을 알고있으면 세부 정보를 알지 못하더라도 모듈을 가져 오면 다음과 같은 계산을 수행 할 수 있음\n"
    },
    {
      "cell_type": "code",
      "execution_count": 2,
      "metadata": {
        "pycharm": {}
      },
      "outputs": [
        {
          "data": {
            "text/plain": [
              "4.0"
            ]
          },
          "execution_count": 2,
          "metadata": {},
          "output_type": "execute_result"
        }
      ],
      "source": [
        "import math \n",
        "math.sqrt(16)\n",
        "# sqrt는 제곱근 값을 return 함"
      ]
    },
    {
      "cell_type": "markdown",
      "metadata": {
        "pycharm": {}
      },
      "source": "- 위의 계산을 보면 제곱근이 계산되는 방법을 알지 못하지만 함수가 호출되는 것과 사용 방법을 알고 있으므로 함수를 제대로 가져오고 사용한다면 원하는 결과를 얻을 수 있음\n"
    },
    {
      "cell_type": "markdown",
      "metadata": {
        "pycharm": {}
      },
      "source": "1.4. What Is Programming\n- 프로그래밍은 알고리즘을 가져 와서 표기법, 프로그래밍 언어로 인코딩하여 컴퓨터에서 실행할 수 있도록하는 프로세스임\n- 특정한 목적을 위해 컴퓨터에게 내리는 명령의 묶음\n"
    },
    {
      "cell_type": "markdown",
      "metadata": {
        "pycharm": {}
      },
      "source": "1.5. Why Study Data Stuctures and Abstract Data Types?\n- 효율적인 문제 해결 프로세스를 활용하기 위해 computer scientists들은 추상을 통해 세부 사항을 놓치지 않고 \u0027bic picture\u0027에 집중함\n- ADT(Abstract Data Type) : 새로운 데이터 타입을 추상적으로 정의한 것\n- 데이터 구조는 ADT의 구현에 프로그래밍 구성 요소 모음과 원시 데이터 유형을 사용하여 데이터의 물리적 뷰를 제공\n"
    },
    {
      "cell_type": "markdown",
      "metadata": {
        "pycharm": {}
      },
      "source": "1.6. Why Study Algorithms?\n - 다른 사람들이 이떻게 문제를 해결하는지 경험하고 자신이 스스로 문제를 해결하는 것은 추후 어려운 문제를 해결하는데 도움이 됨\n - 알고리즘은 어떻게 구성하는지에 따라 성능이 매우 다름 \n - 두 가지 알고리즘이 있을 때 이 두가지 알고리즘을 비교할 수 있는 방법이 필요함, 둘 다 작동하더라도 하나는 다른 것보다 단순히 더 빨리 작동하거나 적은 메모리를 사용하는 알고리즘을 사용하자고 제안할 수 있어야 함\n - 문제가 발생했을 때 문제를 합리적으로 처리하는데 너무 많은 시간 또는 기타 리소스가 들지 않도록 해야함\n - 문제를 해결할 수 있는 방법은 많지만 해결에 사용하는 방법이 좋은 것인지 나쁜 것인지를 알아야 함\n - 문제를 해결하는 것이 다가 아닌 솔루션 평가 기술을 알고 이해해야 함\n"
    },
    {
      "cell_type": "markdown",
      "metadata": {
        "pycharm": {}
      },
      "source": [
        "1.7. Review of Basic Python\n",
        "- 파이썬은 인터프리터 언어로 작성된 원시코드 명령어들을 한번에 한 줄씩 읽어들여서 실행함"
      ]
    },
    {
      "cell_type": "code",
      "execution_count": 3,
      "metadata": {
        "pycharm": {}
      },
      "outputs": [
        {
          "name": "stdout",
          "output_type": "stream",
          "text": [
            "Algorithms and Data Structures\n"
          ]
        }
      ],
      "source": [
        "print(\"Algorithms and Data Structures\")"
      ]
    }
  ],
  "metadata": {
    "kernelspec": {
      "display_name": "Python 3",
      "language": "python",
      "name": "python3"
    },
    "language_info": {
      "codemirror_mode": {
        "name": "ipython",
        "version": 3
      },
      "file_extension": ".py",
      "mimetype": "text/x-python",
      "name": "python",
      "nbconvert_exporter": "python",
      "pygments_lexer": "ipython3",
      "version": "3.7.1"
    }
  },
  "nbformat": 4,
  "nbformat_minor": 2
}