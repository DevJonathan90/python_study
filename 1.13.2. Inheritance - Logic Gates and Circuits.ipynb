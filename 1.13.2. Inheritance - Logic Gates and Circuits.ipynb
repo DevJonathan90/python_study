{
  "cells": [
    {
      "cell_type": "markdown",
      "metadata": {
        "collapsed": true,
        "pycharm": {
          "name": "#%% md\n"
        }
      },
      "source": "# class Inheritance\n- class Inheritance(상속)은 우리가 흔히 알고 있는 \u0027유산을 상속하다\u0027의 상속과 유사한 개념임\n- python 뿐만 아니라 많은 프로그래밍 언어에서 class의 상속 기능을 이용할 수 있음\n- 쉽게 말해 부모 class가 존재하고, 그 부모 class를 상속받은 자식 class를 만들 수 있음\n- 이 때 자식 class는 부모 class가 가진 함수나 변수를 물려받아 자식 class에서 그대로 사용할 수 있음\n"
    },
    {
      "cell_type": "code",
      "execution_count": 4,
      "outputs": [
        {
          "name": "stdout",
          "text": [
            "name: foo, age: 20\n"
          ],
          "output_type": "stream"
        }
      ],
      "source": "class Person:\n    def __init__(self, name, age):\n        self.name \u003d name\n        self.age \u003d age\n        \n    def info(self):\n            print(\"name: %s, age: %d\" %(self.name, self.age))\n\nclass Employee(Person):\n    pass\n\nem \u003d Employee(\"foo\",20)\nem.info()\n",
      "metadata": {
        "pycharm": {
          "metadata": false,
          "name": "#%%\n",
          "is_executing": false
        }
      }
    },
    {
      "cell_type": "markdown",
      "source": "- 위의 예시를 보면  Person class는 init 함수를 통해 이름과 나이를 초기 값으로 받고 info 함수를 통해 이름과 나이를 출력함\n- Employee class를 보면 __class Employee(Person)__: 과 같은 방법으로 Person class를 상속 받음\n- 하위에 아무런 함수가 없더라도 info 함수를 호출하면 이름과 나이가 출력되는 것을 볼 수 있음\n",
      "metadata": {
        "pycharm": {
          "metadata": false,
          "name": "#%% md\n"
        }
      }
    },
    {
      "cell_type": "markdown",
      "source": "- 단순히 상속받는 것 뿐만 아니라 부모 class에 있는 함수를 변형하여 사용하는 것도 가능함\n- 이를 __method overriding__ 이라고 부름\n",
      "metadata": {
        "pycharm": {
          "metadata": false,
          "name": "#%% md\n"
        }
      }
    },
    {
      "cell_type": "code",
      "execution_count": 6,
      "outputs": [
        {
          "name": "stdout",
          "text": [
            "나는 부모 class 입니다.\n나는 자식 클래스 입니다.\n"
          ],
          "output_type": "stream"
        }
      ],
      "source": "# method overriding\nclass Person:\n    def __init__(self, name, age):\n        self.name \u003d name\n        self.age \u003d age\n        \n    def info(self):\n        print(\"나는 부모 class 입니다.\")\n        \nclass Employee(Person):\n    def info(self):\n        print(\"나는 자식 클래스 입니다.\")\n\nper \u003d Person(\"Python\", 100)\nper.info()\n\nem \u003d Employee(\"foo\", 20)\nem.info()\n                ",
      "metadata": {
        "pycharm": {
          "metadata": false,
          "name": "#%%\n",
          "is_executing": false
        }
      }
    },
    {
      "cell_type": "markdown",
      "source": "- Person과 Employee 모두 infop 라는 함수를 가지고 있지만 Employee의 인스턴스에서 info 함수를 호출 했을 때는 \"나는 부모 class\"입니다.\" 가 아닌 \"나는 자식 class 입니다.\"가 출력되는 것을 볼 수 있음\n- 이처럼 부모 class method와 같은 이름을 가진 method를 자식 class에서 새롭게 구현하는 것을 __method overriding__이라 함    ",
      "metadata": {
        "pycharm": {
          "metadata": false,
          "name": "#%% md\n"
        }
      }
    }
  ],
  "metadata": {
    "language_info": {
      "codemirror_mode": {
        "name": "ipython",
        "version": 2
      },
      "file_extension": ".py",
      "mimetype": "text/x-python",
      "name": "python",
      "nbconvert_exporter": "python",
      "pygments_lexer": "ipython2",
      "version": "2.7.6"
    },
    "kernelspec": {
      "name": "python3",
      "language": "python",
      "display_name": "Python 3"
    }
  },
  "nbformat": 4,
  "nbformat_minor": 0
}