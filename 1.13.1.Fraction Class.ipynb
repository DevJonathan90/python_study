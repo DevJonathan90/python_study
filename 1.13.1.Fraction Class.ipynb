{
  "cells": [
    {
      "cell_type": "markdown",
      "source": "1.13. Object-Oriented Programming in Python: Defining Classes\n- 파이썬은 객체 지향형 언어로 프로그래머가 문제를 해결하는데 필요한 기능을 직접 구현하여 문제를 해결할 수 있음\n- 추상적인 데이터 유형을 사용하여 데이터 객체의 모양과 수행할 수 있는 작업에 대해 논리적으로 설명을 할 수 있음\n- 클래스를 작성함으로써 추상화를 실제로 사용하는데 필요한 기능을 제공함\n",
      "metadata": {
        "pycharm": {
          "metadata": false,
          "name": "#%% md\n"
        }
      }
    },
    {
      "cell_type": "markdown",
      "source": "1.13.1 A Fraction Class\n- 사용자 정의 class 구현에 대한 세부 정보를 표시하는 가장 일반적인 예는 추상 데이터 형식 Fraction을 구현하는 class를 만드는 것임\n- 3/5의 경우 두 부분으로 구성됨 (분자와 분모)\n- 모든 분수에 대해 부동 소수점 근사를 만들 수 있지만, 이 경우 분수를 정확한 값으로 나타내려고 함 \n",
      "metadata": {
        "pycharm": {
          "metadata": false,
          "name": "#%% md\n"
        }
      }
    },
    {
      "cell_type": "code",
      "execution_count": 5,
      "outputs": [
        {
          "traceback": [
            "\u001b[1;36m  File \u001b[1;32m\"\u003cipython-input-5-10215387d158\u003e\"\u001b[1;36m, line \u001b[1;32m3\u001b[0m\n\u001b[1;33m    \u001b[0m\n\u001b[1;37m    ^\u001b[0m\n\u001b[1;31mSyntaxError\u001b[0m\u001b[1;31m:\u001b[0m unexpected EOF while parsing\n"
          ],
          "ename": "SyntaxError",
          "evalue": "unexpected EOF while parsing (\u003cipython-input-5-10215387d158\u003e, line 3)",
          "output_type": "error"
        }
      ],
      "source": "class Fraction:\n    \n    # the methods go here\n",
      "metadata": {
        "pycharm": {
          "metadata": false,
          "name": "#%%\n",
          "is_executing": false
        }
      }
    },
    {
      "cell_type": "markdown",
      "source": "- python에서는 함수 정의와 구문적으로 유사한 이름과 method 정의 집합을 제공하여 새로운 class를 정의함\n- 아래의 예제에 따르면",
      "metadata": {
        "pycharm": {
          "metadata": false
        }
      }
    },
    {
      "cell_type": "markdown",
      "source": "Listing 2",
      "metadata": {
        "pycharm": {
          "metadata": false,
          "name": "#%% md\n"
        }
      }
    },
    {
      "cell_type": "code",
      "source": "class Fraction:\n    \n    def __init__(self, top, bottom):\n        \n        self.num \u003d top\n        self.den \u003d bottom\n    ",
      "metadata": {
        "pycharm": {
          "metadata": false,
          "name": "#%%\n",
          "is_executing": false
        }
      },
      "execution_count": 51,
      "outputs": []
    },
    {
      "cell_type": "markdown",
      "source": "- 위의 class를 보면 formal parameter list에 세 항목(self, top, bottom)이 들어 있음\n- self는 객체 자체에 대한 참조로 항상 사용되는 secial parameter로 항상 첫 번째 formal parameter 여야 함, 그러나 실제 호출시 실제 parameter 값이 제공되지 않음\n- 앞에서 설명한 것처럼 분수에는 분자와 분모의 두 가지 상태 데이터가 필요함\n- 생성자의 self.num이라는 표기법은 분수 객체가 num이라는 내부 데이터 객채를 상태의 일부로 정의하도록 정의함\n- 마찬가지로 self.den은 분모를 생성함\n- 두 개의 형식 매개 변수의 값은 초기에 할당되어 새 분수 객체가 시작 값을 알 수  있게 함\n",
      "metadata": {
        "pycharm": {
          "metadata": false
        }
      }
    },
    {
      "cell_type": "markdown",
      "source": "- Fraction class의 인스턴스를 만들려면 생성자를 호출해야 함\n- 이는 class의 이름을 사용하고 필요한 상태에 대한 실제 값을 전달함으로써 발생함 (우리가 직접 __init__를 호출하지는 않음)\n- 예를 들어, 3/5 부분을 나타내는 myfraction이라는 객체를 만듦",
      "metadata": {
        "pycharm": {
          "metadata": false
        }
      }
    },
    {
      "cell_type": "code",
      "execution_count": 52,
      "outputs": [],
      "source": "myfraction \u003d Fraction(3, 5)",
      "metadata": {
        "pycharm": {
          "metadata": false,
          "name": "#%%\n",
          "is_executing": false
        }
      }
    },
    {
      "cell_type": "markdown",
      "source": "- 다음으로 해야 할 일은 추상 데이터 유형에 필요한 동작을 구현하는 것임\n- 먼저 Fraction 객체를 출력하려고 할 때 어떤 일이 일어나는지 보자",
      "metadata": {
        "pycharm": {
          "metadata": false,
          "name": "#%% md\n"
        }
      }
    },
    {
      "cell_type": "code",
      "execution_count": 53,
      "outputs": [
        {
          "name": "stdout",
          "text": [
            "\u003c__main__.Fraction object at 0x00000135ABC14358\u003e\n"
          ],
          "output_type": "stream"
        }
      ],
      "source": "myf \u003d Fraction(3,5)\nprint(myf)",
      "metadata": {
        "pycharm": {
          "metadata": false,
          "name": "#%%\n",
          "is_executing": false
        }
      }
    },
    {
      "cell_type": "markdown",
      "source": "- Fration 객체 myf는 요청 출력에 응답하는 방법을 알지 못함\n- 출력 기능을 사용하려면 문자열 자체를 출력으로 쓸 수 있도록 문자열로 변환해야함\n- myf가 갖는 유일한 선택은 변수 (주소 자체)에 저장된 실제 참조를 표시하는 것임\n- 이 문제를 해결할 수 있는 방법은 두 가지가 있으나 먼저 첫 번째 방법에 대해서 알아보면,\n    - 첫 번째\n        - show라는 method를 정의하는 것으로 Fraction 객체 자체를 문자열로 출력할 수 있음, 이 method는 Listing 3과 같이 구현할 수 있음\n        - 이전 처럼 Fraction 객체를 생성하면 자신을 표시하도록 요청할 수 있음. 즉, 자체를 올바른 형식으로 출력하도록 요청할 수 있음\n        - 그러나 이 방법은 일반적으로 작동하지 않음\n        - 출력이 제대로 작동하려면 Fraction class에 문자열로 변환하는 방법을 알려줘야 함, 출력 기능이 작업을 수행하기 위해 필요한 기능임\n",
      "metadata": {
        "pycharm": {
          "metadata": false
        }
      }
    },
    {
      "cell_type": "markdown",
      "source": "Listing 3",
      "metadata": {
        "pycharm": {
          "metadata": false
        }
      }
    },
    {
      "cell_type": "code",
      "source": "def show(self):\n    print(self.num, \"/\", self.den)",
      "metadata": {
        "pycharm": {
          "metadata": false,
          "name": "#%%\n",
          "is_executing": false
        }
      },
      "execution_count": 54,
      "outputs": []
    },
    {
      "cell_type": "code",
      "execution_count": 56,
      "outputs": [],
      "source": "import matplotlib.pyplot as plt\nmyf \u003d Fraction(3, 5)\nplt.show(myf)",
      "metadata": {
        "pycharm": {
          "metadata": false,
          "name": "#%%\n",
          "is_executing": false
        }
      }
    },
    {
      "cell_type": "markdown",
      "source": "- str method는 객체를 문자열로 변환하는 method임\n- str method의 기본 구현은 인스턴스 주소 문자열을 반환하는 것임\n",
      "metadata": {
        "pycharm": {
          "metadata": false
        }
      }
    },
    {
      "cell_type": "markdown",
      "source": "Listing 4",
      "metadata": {
        "pycharm": {
          "metadata": false
        }
      }
    },
    {
      "cell_type": "code",
      "source": "def __str__(self):\n    return str(self.num)+\"/\"+str(self.den)",
      "metadata": {
        "pycharm": {
          "metadata": false,
          "name": "#%%\n",
          "is_executing": false
        }
      },
      "execution_count": 57,
      "outputs": []
    },
    {
      "cell_type": "code",
      "execution_count": 58,
      "outputs": [
        {
          "name": "stdout",
          "text": [
            "\u003c__main__.Fraction object at 0x00000135ABC069B0\u003e\n"
          ],
          "output_type": "stream"
        }
      ],
      "source": "myf \u003d Fraction(3,5)\nprint(myf)\n",
      "metadata": {
        "pycharm": {
          "metadata": false,
          "name": "#%%\n",
          "is_executing": false
        }
      }
    },
    {
      "cell_type": "code",
      "execution_count": 63,
      "outputs": [],
      "source": "# 분수의 덧셈\n\n#\u0026\u0026\nclass Fraction:\n    def __init__(self, top, bottom):\n        self.num \u003d top\n        self.den \u003d bottom\n",
      "metadata": {
        "pycharm": {
          "metadata": false,
          "name": "#%% #\n",
          "is_executing": false
        }
      }
    },
    {
      "cell_type": "code",
      "execution_count": 64,
      "outputs": [
        {
          "traceback": [
            "\u001b[1;31m---------------------------------------------------------------------------\u001b[0m",
            "\u001b[1;31mTypeError\u001b[0m                                 Traceback (most recent call last)",
            "\u001b[1;32m\u003cipython-input-64-03ad5d903f53\u003e\u001b[0m in \u001b[0;36m\u003cmodule\u003e\u001b[1;34m\u001b[0m\n\u001b[0;32m      1\u001b[0m \u001b[0mobj\u001b[0m \u001b[1;33m\u003d\u001b[0m \u001b[0mFraction\u001b[0m\u001b[1;33m(\u001b[0m\u001b[1;36m2\u001b[0m\u001b[1;33m,\u001b[0m\u001b[1;36m5\u001b[0m\u001b[1;33m)\u001b[0m\u001b[1;33m\u001b[0m\u001b[1;33m\u001b[0m\u001b[0m\n\u001b[0;32m      2\u001b[0m \u001b[0mobj2\u001b[0m \u001b[1;33m\u003d\u001b[0m \u001b[0mFraction\u001b[0m\u001b[1;33m(\u001b[0m\u001b[1;36m3\u001b[0m\u001b[1;33m,\u001b[0m\u001b[1;36m4\u001b[0m\u001b[1;33m)\u001b[0m\u001b[1;33m\u001b[0m\u001b[1;33m\u001b[0m\u001b[0m\n\u001b[1;32m----\u003e 3\u001b[1;33m \u001b[0mobj\u001b[0m\u001b[1;33m+\u001b[0m\u001b[0mobj2\u001b[0m\u001b[1;33m\u001b[0m\u001b[1;33m\u001b[0m\u001b[0m\n\u001b[0m\u001b[0;32m      4\u001b[0m \u001b[1;31m# 같은 클레스의 객체를 만들어서 덧셈을 하면 내장 메소드가 없다고 나옴, 그렇다면 내장 메소드를 만들어 줘야 함\u001b[0m\u001b[1;33m\u001b[0m\u001b[1;33m\u001b[0m\u001b[1;33m\u001b[0m\u001b[0m\n\u001b[0;32m      5\u001b[0m \u001b[1;33m\u001b[0m\u001b[0m\n",
            "\u001b[1;31mTypeError\u001b[0m: unsupported operand type(s) for +: \u0027Fraction\u0027 and \u0027Fraction\u0027"
          ],
          "ename": "TypeError",
          "evalue": "unsupported operand type(s) for +: \u0027Fraction\u0027 and \u0027Fraction\u0027",
          "output_type": "error"
        }
      ],
      "source": "obj \u003d Fraction(2,5)\nobj2 \u003d Fraction(3,4)\nobj+obj2\n# 같은 클레스의 객체를 만들어서 덧셈을 하면 내장 메소드가 없다고 나옴, 그렇다면 내장 메소드를 만들어 줘야 함\n",
      "metadata": {
        "pycharm": {
          "metadata": false,
          "name": "#%%        \n",
          "is_executing": false
        }
      }
    },
    {
      "cell_type": "code",
      "execution_count": 65,
      "outputs": [],
      "source": "# 덧셈 내장 메소드 정의\nclass Fraction:\n    def __init__(self, top, bottom):\n        self.num \u003d top\n        self.den \u003d bottom\n        \n    def __add__(self, otherfraction):\n        newnum \u003d (self.num*otherfraction.den) + (otherfraction.num*self.den)\n        newden \u003d self.den*otherfraction.den\n        \n        print(newnum, \u0027/\u0027, newden)\n        ",
      "metadata": {
        "pycharm": {
          "metadata": false,
          "name": "#%%\n",
          "is_executing": false
        }
      }
    },
    {
      "cell_type": "code",
      "execution_count": 68,
      "outputs": [
        {
          "name": "stdout",
          "text": [
            "23 / 20\n"
          ],
          "output_type": "stream"
        }
      ],
      "source": "obj \u003d Fraction(2,5)\nobj2 \u003d Fraction(3,4)\nobj + obj2\n",
      "metadata": {
        "pycharm": {
          "metadata": false,
          "name": "#%%\n",
          "is_executing": false
        }
      }
    },
    {
      "cell_type": "code",
      "execution_count": 69,
      "outputs": [],
      "source": "# 분수의 사칙 연산\nclass Fraction:\n    def __init__(self, top, bottom):\n        if top \u003c 0 or top \u003d\u003d 0:\n            raise RuntimeError(\"numerator must be above 0\")\n        if bottom \u003c 0 or bottom \u003d\u003d 0:\n            raise RuntimeError(\"denominator must be above 0\")\n \n        self.num \u003d top\n        self.den \u003d bottom\n \n    def __add__(self, otherfraction):\n        newnum \u003d (self.num*otherfraction.den) + (otherfraction.num*self.den)\n        newden \u003d self.den*otherfraction.den\n \n        print(newnum, \u0027/\u0027, newden)\n \n    def __sub__(self, otherfraction):\n        newnum \u003d (self.num*otherfraction.den) - (otherfraction.num*self.den)\n        newden \u003d self.den*otherfraction.den\n \n        print(newnum, \u0027/\u0027, newden)\n \n    def __mul__(self, otherfraction):\n        newnum \u003d self.num*otherfraction.num\n        newden \u003d self.den*otherfraction.den\n \n        print(newnum, \u0027/\u0027, newden)\n \n    def __truediv__(self, otherfraction):\n        newnum \u003d self.num*otherfraction.den\n        newden \u003d self.den*otherfraction.num\n \n        print(newnum, \u0027/\u0027, newden)\n        ",
      "metadata": {
        "pycharm": {
          "metadata": false,
          "name": "#%%\n",
          "is_executing": false
        }
      }
    },
    {
      "cell_type": "code",
      "execution_count": 70,
      "outputs": [
        {
          "name": "stdout",
          "text": [
            "23 / 20\n-7 / 20\n6 / 20\n8 / 15\n"
          ],
          "output_type": "stream"
        }
      ],
      "source": "obj \u003d Fraction(2,5)\nobj2 \u003d Fraction(3,4)\n\nobj + obj2\n\nobj - obj2\n\nobj * obj2\n\nobj / obj2",
      "metadata": {
        "pycharm": {
          "metadata": false,
          "name": "#%%\n",
          "is_executing": false
        }
      }
    }
  ],
  "metadata": {
    "language_info": {
      "codemirror_mode": {
        "name": "ipython",
        "version": 2
      },
      "file_extension": ".py",
      "mimetype": "text/x-python",
      "name": "python",
      "nbconvert_exporter": "python",
      "pygments_lexer": "ipython2",
      "version": "2.7.6"
    },
    "kernelspec": {
      "name": "python3",
      "language": "python",
      "display_name": "Python 3"
    },
    "stem_cell": {
      "cell_type": "raw",
      "source": "",
      "metadata": {
        "pycharm": {
          "metadata": false
        }
      }
    }
  },
  "nbformat": 4,
  "nbformat_minor": 0
}